{
 "cells": [
  {
   "cell_type": "code",
   "execution_count": 157,
   "id": "002bc6b3",
   "metadata": {},
   "outputs": [],
   "source": [
    "from openpyxl import workbook,load_workbook,drawing\n",
    "import pandas as pd\n",
    "from matplotlib import pyplot as plt\n",
    "from glob import glob\n",
    "\n",
    "pd.set_option(\"display.precision\", 2)\n",
    "pd.options.mode.chained_assignment = None  # default='warn'"
   ]
  },
  {
   "cell_type": "markdown",
   "id": "a002544b",
   "metadata": {},
   "source": [
    "### Dataframe after loading the Excel sheet with Null Values for empty cells."
   ]
  },
  {
   "cell_type": "code",
   "execution_count": 133,
   "id": "f3aebc7b",
   "metadata": {},
   "outputs": [
    {
     "data": {
      "text/html": [
       "<div>\n",
       "<style scoped>\n",
       "    .dataframe tbody tr th:only-of-type {\n",
       "        vertical-align: middle;\n",
       "    }\n",
       "\n",
       "    .dataframe tbody tr th {\n",
       "        vertical-align: top;\n",
       "    }\n",
       "\n",
       "    .dataframe thead th {\n",
       "        text-align: right;\n",
       "    }\n",
       "</style>\n",
       "<table border=\"1\" class=\"dataframe\">\n",
       "  <thead>\n",
       "    <tr style=\"text-align: right;\">\n",
       "      <th></th>\n",
       "      <th>0</th>\n",
       "      <th>1</th>\n",
       "      <th>2</th>\n",
       "      <th>3</th>\n",
       "      <th>4</th>\n",
       "    </tr>\n",
       "  </thead>\n",
       "  <tbody>\n",
       "    <tr>\n",
       "      <th>0</th>\n",
       "      <td>2021</td>\n",
       "      <td>NaN</td>\n",
       "      <td>NaN</td>\n",
       "      <td>NaN</td>\n",
       "      <td>NaN</td>\n",
       "    </tr>\n",
       "    <tr>\n",
       "      <th>1</th>\n",
       "      <td>Name</td>\n",
       "      <td>Q1</td>\n",
       "      <td>Q2</td>\n",
       "      <td>Q3</td>\n",
       "      <td>Q4</td>\n",
       "    </tr>\n",
       "    <tr>\n",
       "      <th>2</th>\n",
       "      <td>AXYM</td>\n",
       "      <td>20</td>\n",
       "      <td>32</td>\n",
       "      <td>14</td>\n",
       "      <td>17</td>\n",
       "    </tr>\n",
       "    <tr>\n",
       "      <th>3</th>\n",
       "      <td>FFRT</td>\n",
       "      <td>23</td>\n",
       "      <td>12</td>\n",
       "      <td>17</td>\n",
       "      <td>14</td>\n",
       "    </tr>\n",
       "    <tr>\n",
       "      <th>4</th>\n",
       "      <td>RDTY</td>\n",
       "      <td>20</td>\n",
       "      <td>32</td>\n",
       "      <td>14</td>\n",
       "      <td>17</td>\n",
       "    </tr>\n",
       "    <tr>\n",
       "      <th>5</th>\n",
       "      <td>KRTQ</td>\n",
       "      <td>23</td>\n",
       "      <td>12</td>\n",
       "      <td>17</td>\n",
       "      <td>14</td>\n",
       "    </tr>\n",
       "    <tr>\n",
       "      <th>19</th>\n",
       "      <td>2022</td>\n",
       "      <td>NaN</td>\n",
       "      <td>NaN</td>\n",
       "      <td>NaN</td>\n",
       "      <td>NaN</td>\n",
       "    </tr>\n",
       "    <tr>\n",
       "      <th>20</th>\n",
       "      <td>Name</td>\n",
       "      <td>Q1</td>\n",
       "      <td>Q2</td>\n",
       "      <td>Q3</td>\n",
       "      <td>Q4</td>\n",
       "    </tr>\n",
       "    <tr>\n",
       "      <th>21</th>\n",
       "      <td>AXYM</td>\n",
       "      <td>21</td>\n",
       "      <td>35</td>\n",
       "      <td>17</td>\n",
       "      <td>13</td>\n",
       "    </tr>\n",
       "    <tr>\n",
       "      <th>22</th>\n",
       "      <td>FFRT</td>\n",
       "      <td>34</td>\n",
       "      <td>18</td>\n",
       "      <td>15</td>\n",
       "      <td>32</td>\n",
       "    </tr>\n",
       "    <tr>\n",
       "      <th>23</th>\n",
       "      <td>RDTY</td>\n",
       "      <td>11</td>\n",
       "      <td>56</td>\n",
       "      <td>12</td>\n",
       "      <td>25</td>\n",
       "    </tr>\n",
       "    <tr>\n",
       "      <th>24</th>\n",
       "      <td>KRTQ</td>\n",
       "      <td>33</td>\n",
       "      <td>25</td>\n",
       "      <td>11</td>\n",
       "      <td>10</td>\n",
       "    </tr>\n",
       "  </tbody>\n",
       "</table>\n",
       "</div>"
      ],
      "text/plain": [
       "       0    1    2    3    4\n",
       "0   2021  NaN  NaN  NaN  NaN\n",
       "1   Name   Q1   Q2   Q3   Q4\n",
       "2   AXYM   20   32   14   17\n",
       "3   FFRT   23   12   17   14\n",
       "4   RDTY   20   32   14   17\n",
       "5   KRTQ   23   12   17   14\n",
       "19  2022  NaN  NaN  NaN  NaN\n",
       "20  Name   Q1   Q2   Q3   Q4\n",
       "21  AXYM   21   35   17   13\n",
       "22  FFRT   34   18   15   32\n",
       "23  RDTY   11   56   12   25\n",
       "24  KRTQ   33   25   11   10"
      ]
     },
     "execution_count": 133,
     "metadata": {},
     "output_type": "execute_result"
    }
   ],
   "source": [
    "df = pd.read_excel('data/sample_data.xlsx',header=None)\n",
    "df = df.dropna(how='all')\n",
    "df"
   ]
  },
  {
   "cell_type": "markdown",
   "id": "266d6a3c",
   "metadata": {},
   "source": [
    "### Different Dataframe Titles (Yearly data in our sample)"
   ]
  },
  {
   "cell_type": "code",
   "execution_count": 134,
   "id": "3a9e8d05",
   "metadata": {},
   "outputs": [
    {
     "data": {
      "text/html": [
       "<div>\n",
       "<style scoped>\n",
       "    .dataframe tbody tr th:only-of-type {\n",
       "        vertical-align: middle;\n",
       "    }\n",
       "\n",
       "    .dataframe tbody tr th {\n",
       "        vertical-align: top;\n",
       "    }\n",
       "\n",
       "    .dataframe thead th {\n",
       "        text-align: right;\n",
       "    }\n",
       "</style>\n",
       "<table border=\"1\" class=\"dataframe\">\n",
       "  <thead>\n",
       "    <tr style=\"text-align: right;\">\n",
       "      <th></th>\n",
       "      <th>0</th>\n",
       "      <th>1</th>\n",
       "      <th>2</th>\n",
       "      <th>3</th>\n",
       "      <th>4</th>\n",
       "    </tr>\n",
       "  </thead>\n",
       "  <tbody>\n",
       "    <tr>\n",
       "      <th>0</th>\n",
       "      <td>2021</td>\n",
       "      <td>NaN</td>\n",
       "      <td>NaN</td>\n",
       "      <td>NaN</td>\n",
       "      <td>NaN</td>\n",
       "    </tr>\n",
       "    <tr>\n",
       "      <th>19</th>\n",
       "      <td>2022</td>\n",
       "      <td>NaN</td>\n",
       "      <td>NaN</td>\n",
       "      <td>NaN</td>\n",
       "      <td>NaN</td>\n",
       "    </tr>\n",
       "  </tbody>\n",
       "</table>\n",
       "</div>"
      ],
      "text/plain": [
       "       0    1    2    3    4\n",
       "0   2021  NaN  NaN  NaN  NaN\n",
       "19  2022  NaN  NaN  NaN  NaN"
      ]
     },
     "execution_count": 134,
     "metadata": {},
     "output_type": "execute_result"
    }
   ],
   "source": [
    "df[df.isna().any(axis=1)]"
   ]
  },
  {
   "cell_type": "code",
   "execution_count": 135,
   "id": "a53fc010",
   "metadata": {},
   "outputs": [],
   "source": [
    "ylist = df[df.isna().any(axis=1)][0].to_list()"
   ]
  },
  {
   "cell_type": "code",
   "execution_count": 136,
   "id": "60560383",
   "metadata": {},
   "outputs": [
    {
     "data": {
      "text/plain": [
       "[2021, 2022]"
      ]
     },
     "execution_count": 136,
     "metadata": {},
     "output_type": "execute_result"
    }
   ],
   "source": [
    "ylist"
   ]
  },
  {
   "cell_type": "markdown",
   "id": "536d6a44",
   "metadata": {},
   "source": [
    "### Seperating the different datasets"
   ]
  },
  {
   "cell_type": "code",
   "execution_count": 137,
   "id": "f1e5e443",
   "metadata": {},
   "outputs": [],
   "source": [
    "columns = df.iloc[1,:].to_list() ## names of columns\n",
    "rows_per_table =int((len(df)-4)/len(ylist))\n",
    "dflist = []\n",
    "start_loc=2\n",
    "for i in ylist:\n",
    "    dftmp = df.iloc[start_loc:start_loc+4,:]\n",
    "    dftmp.columns = columns\n",
    "    dftmp['Year'] = i\n",
    "    dflist.append(dftmp)\n",
    "    start_loc +=(rows_per_table+2)"
   ]
  },
  {
   "cell_type": "code",
   "execution_count": 138,
   "id": "2385b6ed",
   "metadata": {},
   "outputs": [
    {
     "data": {
      "text/html": [
       "<div>\n",
       "<style scoped>\n",
       "    .dataframe tbody tr th:only-of-type {\n",
       "        vertical-align: middle;\n",
       "    }\n",
       "\n",
       "    .dataframe tbody tr th {\n",
       "        vertical-align: top;\n",
       "    }\n",
       "\n",
       "    .dataframe thead th {\n",
       "        text-align: right;\n",
       "    }\n",
       "</style>\n",
       "<table border=\"1\" class=\"dataframe\">\n",
       "  <thead>\n",
       "    <tr style=\"text-align: right;\">\n",
       "      <th></th>\n",
       "      <th>Name</th>\n",
       "      <th>Q1</th>\n",
       "      <th>Q2</th>\n",
       "      <th>Q3</th>\n",
       "      <th>Q4</th>\n",
       "      <th>Year</th>\n",
       "    </tr>\n",
       "  </thead>\n",
       "  <tbody>\n",
       "    <tr>\n",
       "      <th>2</th>\n",
       "      <td>AXYM</td>\n",
       "      <td>20</td>\n",
       "      <td>32</td>\n",
       "      <td>14</td>\n",
       "      <td>17</td>\n",
       "      <td>2021</td>\n",
       "    </tr>\n",
       "    <tr>\n",
       "      <th>3</th>\n",
       "      <td>FFRT</td>\n",
       "      <td>23</td>\n",
       "      <td>12</td>\n",
       "      <td>17</td>\n",
       "      <td>14</td>\n",
       "      <td>2021</td>\n",
       "    </tr>\n",
       "    <tr>\n",
       "      <th>4</th>\n",
       "      <td>RDTY</td>\n",
       "      <td>20</td>\n",
       "      <td>32</td>\n",
       "      <td>14</td>\n",
       "      <td>17</td>\n",
       "      <td>2021</td>\n",
       "    </tr>\n",
       "    <tr>\n",
       "      <th>5</th>\n",
       "      <td>KRTQ</td>\n",
       "      <td>23</td>\n",
       "      <td>12</td>\n",
       "      <td>17</td>\n",
       "      <td>14</td>\n",
       "      <td>2021</td>\n",
       "    </tr>\n",
       "  </tbody>\n",
       "</table>\n",
       "</div>"
      ],
      "text/plain": [
       "   Name  Q1  Q2  Q3  Q4  Year\n",
       "2  AXYM  20  32  14  17  2021\n",
       "3  FFRT  23  12  17  14  2021\n",
       "4  RDTY  20  32  14  17  2021\n",
       "5  KRTQ  23  12  17  14  2021"
      ]
     },
     "execution_count": 138,
     "metadata": {},
     "output_type": "execute_result"
    }
   ],
   "source": [
    "dflist[0]"
   ]
  },
  {
   "cell_type": "code",
   "execution_count": 139,
   "id": "7d8e5ac9",
   "metadata": {},
   "outputs": [
    {
     "data": {
      "text/html": [
       "<div>\n",
       "<style scoped>\n",
       "    .dataframe tbody tr th:only-of-type {\n",
       "        vertical-align: middle;\n",
       "    }\n",
       "\n",
       "    .dataframe tbody tr th {\n",
       "        vertical-align: top;\n",
       "    }\n",
       "\n",
       "    .dataframe thead th {\n",
       "        text-align: right;\n",
       "    }\n",
       "</style>\n",
       "<table border=\"1\" class=\"dataframe\">\n",
       "  <thead>\n",
       "    <tr style=\"text-align: right;\">\n",
       "      <th></th>\n",
       "      <th>Name</th>\n",
       "      <th>Q1</th>\n",
       "      <th>Q2</th>\n",
       "      <th>Q3</th>\n",
       "      <th>Q4</th>\n",
       "      <th>Year</th>\n",
       "    </tr>\n",
       "  </thead>\n",
       "  <tbody>\n",
       "    <tr>\n",
       "      <th>21</th>\n",
       "      <td>AXYM</td>\n",
       "      <td>21</td>\n",
       "      <td>35</td>\n",
       "      <td>17</td>\n",
       "      <td>13</td>\n",
       "      <td>2022</td>\n",
       "    </tr>\n",
       "    <tr>\n",
       "      <th>22</th>\n",
       "      <td>FFRT</td>\n",
       "      <td>34</td>\n",
       "      <td>18</td>\n",
       "      <td>15</td>\n",
       "      <td>32</td>\n",
       "      <td>2022</td>\n",
       "    </tr>\n",
       "    <tr>\n",
       "      <th>23</th>\n",
       "      <td>RDTY</td>\n",
       "      <td>11</td>\n",
       "      <td>56</td>\n",
       "      <td>12</td>\n",
       "      <td>25</td>\n",
       "      <td>2022</td>\n",
       "    </tr>\n",
       "    <tr>\n",
       "      <th>24</th>\n",
       "      <td>KRTQ</td>\n",
       "      <td>33</td>\n",
       "      <td>25</td>\n",
       "      <td>11</td>\n",
       "      <td>10</td>\n",
       "      <td>2022</td>\n",
       "    </tr>\n",
       "  </tbody>\n",
       "</table>\n",
       "</div>"
      ],
      "text/plain": [
       "    Name  Q1  Q2  Q3  Q4  Year\n",
       "21  AXYM  21  35  17  13  2022\n",
       "22  FFRT  34  18  15  32  2022\n",
       "23  RDTY  11  56  12  25  2022\n",
       "24  KRTQ  33  25  11  10  2022"
      ]
     },
     "execution_count": 139,
     "metadata": {},
     "output_type": "execute_result"
    }
   ],
   "source": [
    "dflist[1]"
   ]
  },
  {
   "cell_type": "markdown",
   "id": "e9390642",
   "metadata": {},
   "source": [
    "### Merging datasets by columns"
   ]
  },
  {
   "cell_type": "code",
   "execution_count": 140,
   "id": "cc95b9be",
   "metadata": {},
   "outputs": [],
   "source": [
    "dfall = pd.merge(dflist[0].set_index('Name'),dflist[1].set_index('Name'),left_index=True,right_index=True,how='outer')"
   ]
  },
  {
   "cell_type": "code",
   "execution_count": 141,
   "id": "073ed9fb",
   "metadata": {},
   "outputs": [
    {
     "data": {
      "text/html": [
       "<div>\n",
       "<style scoped>\n",
       "    .dataframe tbody tr th:only-of-type {\n",
       "        vertical-align: middle;\n",
       "    }\n",
       "\n",
       "    .dataframe tbody tr th {\n",
       "        vertical-align: top;\n",
       "    }\n",
       "\n",
       "    .dataframe thead th {\n",
       "        text-align: right;\n",
       "    }\n",
       "</style>\n",
       "<table border=\"1\" class=\"dataframe\">\n",
       "  <thead>\n",
       "    <tr style=\"text-align: right;\">\n",
       "      <th></th>\n",
       "      <th>Q1_x</th>\n",
       "      <th>Q2_x</th>\n",
       "      <th>Q3_x</th>\n",
       "      <th>Q4_x</th>\n",
       "      <th>Year_x</th>\n",
       "      <th>Q1_y</th>\n",
       "      <th>Q2_y</th>\n",
       "      <th>Q3_y</th>\n",
       "      <th>Q4_y</th>\n",
       "      <th>Year_y</th>\n",
       "    </tr>\n",
       "    <tr>\n",
       "      <th>Name</th>\n",
       "      <th></th>\n",
       "      <th></th>\n",
       "      <th></th>\n",
       "      <th></th>\n",
       "      <th></th>\n",
       "      <th></th>\n",
       "      <th></th>\n",
       "      <th></th>\n",
       "      <th></th>\n",
       "      <th></th>\n",
       "    </tr>\n",
       "  </thead>\n",
       "  <tbody>\n",
       "    <tr>\n",
       "      <th>AXYM</th>\n",
       "      <td>20</td>\n",
       "      <td>32</td>\n",
       "      <td>14</td>\n",
       "      <td>17</td>\n",
       "      <td>2021</td>\n",
       "      <td>21</td>\n",
       "      <td>35</td>\n",
       "      <td>17</td>\n",
       "      <td>13</td>\n",
       "      <td>2022</td>\n",
       "    </tr>\n",
       "    <tr>\n",
       "      <th>FFRT</th>\n",
       "      <td>23</td>\n",
       "      <td>12</td>\n",
       "      <td>17</td>\n",
       "      <td>14</td>\n",
       "      <td>2021</td>\n",
       "      <td>34</td>\n",
       "      <td>18</td>\n",
       "      <td>15</td>\n",
       "      <td>32</td>\n",
       "      <td>2022</td>\n",
       "    </tr>\n",
       "    <tr>\n",
       "      <th>RDTY</th>\n",
       "      <td>20</td>\n",
       "      <td>32</td>\n",
       "      <td>14</td>\n",
       "      <td>17</td>\n",
       "      <td>2021</td>\n",
       "      <td>11</td>\n",
       "      <td>56</td>\n",
       "      <td>12</td>\n",
       "      <td>25</td>\n",
       "      <td>2022</td>\n",
       "    </tr>\n",
       "    <tr>\n",
       "      <th>KRTQ</th>\n",
       "      <td>23</td>\n",
       "      <td>12</td>\n",
       "      <td>17</td>\n",
       "      <td>14</td>\n",
       "      <td>2021</td>\n",
       "      <td>33</td>\n",
       "      <td>25</td>\n",
       "      <td>11</td>\n",
       "      <td>10</td>\n",
       "      <td>2022</td>\n",
       "    </tr>\n",
       "  </tbody>\n",
       "</table>\n",
       "</div>"
      ],
      "text/plain": [
       "     Q1_x Q2_x Q3_x Q4_x  Year_x Q1_y Q2_y Q3_y Q4_y  Year_y\n",
       "Name                                                        \n",
       "AXYM   20   32   14   17    2021   21   35   17   13    2022\n",
       "FFRT   23   12   17   14    2021   34   18   15   32    2022\n",
       "RDTY   20   32   14   17    2021   11   56   12   25    2022\n",
       "KRTQ   23   12   17   14    2021   33   25   11   10    2022"
      ]
     },
     "execution_count": 141,
     "metadata": {},
     "output_type": "execute_result"
    }
   ],
   "source": [
    "dfall"
   ]
  },
  {
   "cell_type": "markdown",
   "id": "4181e4d7",
   "metadata": {},
   "source": [
    "### Printing Bar Graphs per Organization."
   ]
  },
  {
   "cell_type": "code",
   "execution_count": 142,
   "id": "c0baaddf",
   "metadata": {},
   "outputs": [
    {
     "data": {
      "image/png": "[encoded data removed]",
      "text/plain": [
       "<Figure size 432x288 with 1 Axes>"
      ]
     },
     "metadata": {
      "needs_background": "light"
     },
     "output_type": "display_data"
    },
    {
     "data": {
      "image/png": "[encoded data removed]",
      "text/plain": [
       "<Figure size 432x288 with 1 Axes>"
      ]
     },
     "metadata": {
      "needs_background": "light"
     },
     "output_type": "display_data"
    },
    {
     "data": {
      "image/png": "[encoded data removed]",
      "text/plain": [
       "<Figure size 432x288 with 1 Axes>"
      ]
     },
     "metadata": {
      "needs_background": "light"
     },
     "output_type": "display_data"
    },
    {
     "data": {
      "image/png": "[encoded data removed]",
      "text/plain": [
       "<Figure size 432x288 with 1 Axes>"
      ]
     },
     "metadata": {
      "needs_background": "light"
     },
     "output_type": "display_data"
    }
   ],
   "source": [
    "for i in dfall.index:\n",
    "    filter = dfall.loc[i,:]\n",
    "    filter[sorted([col for col in dfall.columns if 'Q' in col])].plot.bar(color='#a5c9a9')\n",
    "    plt.title(i)\n",
    "    plt.xlabel('Quarters')\n",
    "    plt.ylabel('Sales in Millions')\n",
    "    plt.show()"
   ]
  },
  {
   "cell_type": "code",
   "execution_count": 143,
   "id": "6894fd0f",
   "metadata": {},
   "outputs": [
    {
     "data": {
      "text/plain": [
       "['Q1', 'Q2', 'Q3', 'Q4']"
      ]
     },
     "execution_count": 143,
     "metadata": {},
     "output_type": "execute_result"
    }
   ],
   "source": [
    "columns = [col for col in columns if 'Q' in col]\n",
    "columns"
   ]
  },
  {
   "cell_type": "markdown",
   "id": "5c42511a",
   "metadata": {},
   "source": [
    "### Generating YOY Quarterly diffs        = Q1_y - Q1_x \n",
    "### Generating %age change YOY by Quarter = ((Q1_y - Q1_x)/Q1_x)*100"
   ]
  },
  {
   "cell_type": "code",
   "execution_count": 144,
   "id": "cd3e7209",
   "metadata": {},
   "outputs": [],
   "source": [
    "for i in columns:\n",
    "    dfall[f'{i}_diff'] = dfall[f'{i}_y']-dfall[f'{i}_x']\n",
    "    dfall[f'{i}_%chg'] = (dfall[f'{i}_diff']/dfall[f'{i}_x'])*100"
   ]
  },
  {
   "cell_type": "markdown",
   "id": "fd7c461c",
   "metadata": {},
   "source": [
    "### Final DataFrame with diff and %age change YOY for each Quarter for all Organizations"
   ]
  },
  {
   "cell_type": "code",
   "execution_count": 145,
   "id": "33717a9c",
   "metadata": {},
   "outputs": [
    {
     "data": {
      "text/html": [
       "<div>\n",
       "<style scoped>\n",
       "    .dataframe tbody tr th:only-of-type {\n",
       "        vertical-align: middle;\n",
       "    }\n",
       "\n",
       "    .dataframe tbody tr th {\n",
       "        vertical-align: top;\n",
       "    }\n",
       "\n",
       "    .dataframe thead th {\n",
       "        text-align: right;\n",
       "    }\n",
       "</style>\n",
       "<table border=\"1\" class=\"dataframe\">\n",
       "  <thead>\n",
       "    <tr style=\"text-align: right;\">\n",
       "      <th></th>\n",
       "      <th>Q1_x</th>\n",
       "      <th>Q2_x</th>\n",
       "      <th>Q3_x</th>\n",
       "      <th>Q4_x</th>\n",
       "      <th>Year_x</th>\n",
       "      <th>Q1_y</th>\n",
       "      <th>Q2_y</th>\n",
       "      <th>Q3_y</th>\n",
       "      <th>Q4_y</th>\n",
       "      <th>Year_y</th>\n",
       "      <th>Q1_diff</th>\n",
       "      <th>Q1_%chg</th>\n",
       "      <th>Q2_diff</th>\n",
       "      <th>Q2_%chg</th>\n",
       "      <th>Q3_diff</th>\n",
       "      <th>Q3_%chg</th>\n",
       "      <th>Q4_diff</th>\n",
       "      <th>Q4_%chg</th>\n",
       "    </tr>\n",
       "    <tr>\n",
       "      <th>Name</th>\n",
       "      <th></th>\n",
       "      <th></th>\n",
       "      <th></th>\n",
       "      <th></th>\n",
       "      <th></th>\n",
       "      <th></th>\n",
       "      <th></th>\n",
       "      <th></th>\n",
       "      <th></th>\n",
       "      <th></th>\n",
       "      <th></th>\n",
       "      <th></th>\n",
       "      <th></th>\n",
       "      <th></th>\n",
       "      <th></th>\n",
       "      <th></th>\n",
       "      <th></th>\n",
       "      <th></th>\n",
       "    </tr>\n",
       "  </thead>\n",
       "  <tbody>\n",
       "    <tr>\n",
       "      <th>AXYM</th>\n",
       "      <td>20</td>\n",
       "      <td>32</td>\n",
       "      <td>14</td>\n",
       "      <td>17</td>\n",
       "      <td>2021</td>\n",
       "      <td>21</td>\n",
       "      <td>35</td>\n",
       "      <td>17</td>\n",
       "      <td>13</td>\n",
       "      <td>2022</td>\n",
       "      <td>1</td>\n",
       "      <td>5.0</td>\n",
       "      <td>3</td>\n",
       "      <td>9.38</td>\n",
       "      <td>3</td>\n",
       "      <td>21.43</td>\n",
       "      <td>-4</td>\n",
       "      <td>-23.53</td>\n",
       "    </tr>\n",
       "    <tr>\n",
       "      <th>FFRT</th>\n",
       "      <td>23</td>\n",
       "      <td>12</td>\n",
       "      <td>17</td>\n",
       "      <td>14</td>\n",
       "      <td>2021</td>\n",
       "      <td>34</td>\n",
       "      <td>18</td>\n",
       "      <td>15</td>\n",
       "      <td>32</td>\n",
       "      <td>2022</td>\n",
       "      <td>11</td>\n",
       "      <td>47.83</td>\n",
       "      <td>6</td>\n",
       "      <td>50.0</td>\n",
       "      <td>-2</td>\n",
       "      <td>-11.76</td>\n",
       "      <td>18</td>\n",
       "      <td>128.57</td>\n",
       "    </tr>\n",
       "    <tr>\n",
       "      <th>RDTY</th>\n",
       "      <td>20</td>\n",
       "      <td>32</td>\n",
       "      <td>14</td>\n",
       "      <td>17</td>\n",
       "      <td>2021</td>\n",
       "      <td>11</td>\n",
       "      <td>56</td>\n",
       "      <td>12</td>\n",
       "      <td>25</td>\n",
       "      <td>2022</td>\n",
       "      <td>-9</td>\n",
       "      <td>-45.0</td>\n",
       "      <td>24</td>\n",
       "      <td>75.0</td>\n",
       "      <td>-2</td>\n",
       "      <td>-14.29</td>\n",
       "      <td>8</td>\n",
       "      <td>47.06</td>\n",
       "    </tr>\n",
       "    <tr>\n",
       "      <th>KRTQ</th>\n",
       "      <td>23</td>\n",
       "      <td>12</td>\n",
       "      <td>17</td>\n",
       "      <td>14</td>\n",
       "      <td>2021</td>\n",
       "      <td>33</td>\n",
       "      <td>25</td>\n",
       "      <td>11</td>\n",
       "      <td>10</td>\n",
       "      <td>2022</td>\n",
       "      <td>10</td>\n",
       "      <td>43.48</td>\n",
       "      <td>13</td>\n",
       "      <td>108.33</td>\n",
       "      <td>-6</td>\n",
       "      <td>-35.29</td>\n",
       "      <td>-4</td>\n",
       "      <td>-28.57</td>\n",
       "    </tr>\n",
       "  </tbody>\n",
       "</table>\n",
       "</div>"
      ],
      "text/plain": [
       "     Q1_x Q2_x Q3_x Q4_x  Year_x Q1_y Q2_y Q3_y Q4_y  Year_y Q1_diff Q1_%chg  \\\n",
       "Name                                                                           \n",
       "AXYM   20   32   14   17    2021   21   35   17   13    2022       1     5.0   \n",
       "FFRT   23   12   17   14    2021   34   18   15   32    2022      11   47.83   \n",
       "RDTY   20   32   14   17    2021   11   56   12   25    2022      -9   -45.0   \n",
       "KRTQ   23   12   17   14    2021   33   25   11   10    2022      10   43.48   \n",
       "\n",
       "     Q2_diff Q2_%chg Q3_diff Q3_%chg Q4_diff Q4_%chg  \n",
       "Name                                                  \n",
       "AXYM       3    9.38       3   21.43      -4  -23.53  \n",
       "FFRT       6    50.0      -2  -11.76      18  128.57  \n",
       "RDTY      24    75.0      -2  -14.29       8   47.06  \n",
       "KRTQ      13  108.33      -6  -35.29      -4  -28.57  "
      ]
     },
     "execution_count": 145,
     "metadata": {},
     "output_type": "execute_result"
    }
   ],
   "source": [
    "dfall"
   ]
  },
  {
   "cell_type": "markdown",
   "id": "add73f33",
   "metadata": {},
   "source": [
    "### %age diff Plots for each Organization. "
   ]
  },
  {
   "cell_type": "code",
   "execution_count": 146,
   "id": "f8c3f185",
   "metadata": {},
   "outputs": [
    {
     "data": {
      "image/png": "[encoded data removed]",
      "text/plain": [
       "<Figure size 432x288 with 1 Axes>"
      ]
     },
     "metadata": {
      "needs_background": "light"
     },
     "output_type": "display_data"
    },
    {
     "data": {
      "image/png": "[encoded data removed]",
      "text/plain": [
       "<Figure size 432x288 with 1 Axes>"
      ]
     },
     "metadata": {
      "needs_background": "light"
     },
     "output_type": "display_data"
    },
    {
     "data": {
      "image/png": "[encoded data removed]",
      "text/plain": [
       "<Figure size 432x288 with 1 Axes>"
      ]
     },
     "metadata": {
      "needs_background": "light"
     },
     "output_type": "display_data"
    },
    {
     "data": {
      "image/png": "[encoded data removed]",
      "text/plain": [
       "<Figure size 432x288 with 1 Axes>"
      ]
     },
     "metadata": {
      "needs_background": "light"
     },
     "output_type": "display_data"
    }
   ],
   "source": [
    "for i in dfall.index:\n",
    "    filter = dfall.loc[i,:]\n",
    "    filter_cols = sorted([col for col in dfall.columns if 'chg' in col])\n",
    "    plt.axhline(y = 0, color = '#9c6565', linestyle = '-')\n",
    "    filter[filter_cols].plot(zorder=5,marker='D')\n",
    "    filter[filter_cols].plot(kind='bar', color='#a5c9a9', zorder=1)\n",
    "    plt.title(i)\n",
    "    plt.xlabel('Quarters')\n",
    "    plt.ylabel('% Quarter change YOY Sales')\n",
    "    plt.grid(axis='y',alpha=0.2)\n",
    "    plt.savefig(f\"images/diff_plt_{i}.png\", dpi = 100,bbox_inches='tight')  ## Write Images to file\n",
    "    plt.show()"
   ]
  },
  {
   "cell_type": "markdown",
   "id": "32c53e26",
   "metadata": {},
   "source": [
    "### Write Final Dataframe and Above Graphs into the same Excel Sheet in 2 different tabs"
   ]
  },
  {
   "cell_type": "code",
   "execution_count": 147,
   "id": "5d8e84bc",
   "metadata": {},
   "outputs": [],
   "source": [
    "wb = load_workbook('data/sample_data.xlsx')\n",
    "ws = wb.create_sheet('%age_diff_graphs')\n",
    "for index,imgfile in enumerate(glob('images/diff*.png')):\n",
    "    img = drawing.image.Image(imgfile)\n",
    "    ws.add_image(img,f'A{(index*22)+1}') ## Add space between two images by increasing row index = (index * 22) +1\n",
    "    wb.save('data/sample_data.xlsx')"
   ]
  },
  {
   "cell_type": "code",
   "execution_count": 158,
   "id": "350d79f7",
   "metadata": {},
   "outputs": [],
   "source": [
    "## Rounding off all %change columns to 2 decimal points\n",
    "for i in filter_cols:\n",
    "    dfall[i] = dfall[i].astype('float').round(2)\n",
    "\n",
    "\n",
    "with pd.ExcelWriter('data/sample_data.xlsx', engine = 'openpyxl',mode='a') as writer:  \n",
    "    dfall.to_excel(writer, sheet_name = 'Final_Data')"
   ]
  },
  {
   "cell_type": "code",
   "execution_count": null,
   "id": "13ecce2c",
   "metadata": {},
   "outputs": [],
   "source": []
  }
 ],
 "metadata": {
  "kernelspec": {
   "display_name": "Python 3",
   "language": "python",
   "name": "python3"
  },
  "language_info": {
   "codemirror_mode": {
    "name": "ipython",
    "version": 3
   },
   "file_extension": ".py",
   "mimetype": "text/x-python",
   "name": "python",
   "nbconvert_exporter": "python",
   "pygments_lexer": "ipython3",
   "version": "3.8.13"
  }
 },
 "nbformat": 4,
 "nbformat_minor": 5
}
