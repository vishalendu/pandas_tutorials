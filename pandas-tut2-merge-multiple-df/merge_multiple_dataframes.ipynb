{
 "cells": [
  {
   "cell_type": "code",
   "execution_count": 39,
   "id": "25deea24",
   "metadata": {
    "ExecuteTime": {
     "end_time": "2022-04-10T17:00:41.536935Z",
     "start_time": "2022-04-10T17:00:41.534388Z"
    }
   },
   "outputs": [],
   "source": [
    "import pandas as pd\n",
    "import re,os\n",
    "from glob2 import glob\n",
    "import itertools\n",
    "from functools import reduce\n",
    "import warnings\n",
    "warnings.filterwarnings('ignore')"
   ]
  },
  {
   "cell_type": "code",
   "execution_count": 40,
   "id": "57a688d8",
   "metadata": {
    "ExecuteTime": {
     "end_time": "2022-04-10T17:00:41.546444Z",
     "start_time": "2022-04-10T17:00:41.538702Z"
    }
   },
   "outputs": [],
   "source": [
    "'''\n",
    "dflist = list of DFs with metrics\n",
    "dfnum = index of the DF to be compared\n",
    "indexed = index or joining columns\n",
    "columnlist = remaining columns (to be compared)\n",
    "'''\n",
    "\n",
    "def getmerged(dflist,indexed,columnlist):\n",
    "    data_frames=[]\n",
    "    cols=[]\n",
    "    for index in range(len(dflist)):\n",
    "        cols +=[ f'{column}_{index}' for column in columnlist]\n",
    "        data_frames.append(dflist[index].set_index(indexed))\n",
    "        df_merged = reduce(lambda  left,right: pd.merge(left,right,left_index=True, right_index=True,\\\n",
    "                                                         how='outer'), data_frames)\n",
    "    df_merged.columns=cols\n",
    "    newlist=[]\n",
    "    for col in columnlist:\n",
    "        [newlist.append(f'{col}_{x}') for x in range(len(dflist))]\n",
    "    return df_merged[newlist]\n",
    "\n",
    "def sorted_nicely( l ): \n",
    "    \"\"\" Sort the given iterable in the way that humans expect.\"\"\" \n",
    "    convert = lambda text: int(text) if text.isdigit() else text \n",
    "    alphanum_key = lambda key: [ convert(c) for c in re.split('([0-9]+)', key) ] \n",
    "    return sorted(l, key = alphanum_key)\n",
    "\n",
    "def load(filelist):\n",
    "    dflist =[]\n",
    "    for file in filelist:\n",
    "        dflist.append(pd.read_csv(file))\n",
    "    return dflist\n",
    "\n",
    "def printFiles(pattern):\n",
    "    files = sorted_nicely(glob(pattern))\n",
    "    counter = itertools.count().__next__\n",
    "    display([(counter(),os.path.basename(f)) for f in files])\n",
    "    \n",
    "def printFiles(pattern):\n",
    "    files = sorted_nicely(glob(pattern))\n",
    "    counter = itertools.count().__next__\n",
    "    display([(counter(),os.path.basename(f)) for f in files])"
   ]
  },
  {
   "cell_type": "code",
   "execution_count": 41,
   "id": "3e5c1815",
   "metadata": {
    "ExecuteTime": {
     "end_time": "2022-04-10T17:00:41.559352Z",
     "start_time": "2022-04-10T17:00:41.549260Z"
    }
   },
   "outputs": [],
   "source": [
    "BaseDir='data'\n",
    "filepattern = f'{BaseDir}/machine_data*.csv'\n",
    "dflist=load(sorted_nicely(glob(filepattern)))"
   ]
  },
  {
   "cell_type": "code",
   "execution_count": 42,
   "id": "9b09eeed",
   "metadata": {
    "ExecuteTime": {
     "end_time": "2022-04-10T17:00:41.577945Z",
     "start_time": "2022-04-10T17:00:41.562142Z"
    }
   },
   "outputs": [
    {
     "data": {
      "text/plain": [
       "[(0, 'machine_data1.csv'), (1, 'machine_data2.csv'), (2, 'machine_data3.csv')]"
      ]
     },
     "metadata": {},
     "output_type": "display_data"
    },
    {
     "data": {
      "text/html": [
       "<div>\n",
       "<style scoped>\n",
       "    .dataframe tbody tr th:only-of-type {\n",
       "        vertical-align: middle;\n",
       "    }\n",
       "\n",
       "    .dataframe tbody tr th {\n",
       "        vertical-align: top;\n",
       "    }\n",
       "\n",
       "    .dataframe thead th {\n",
       "        text-align: right;\n",
       "    }\n",
       "</style>\n",
       "<table border=\"1\" class=\"dataframe\">\n",
       "  <thead>\n",
       "    <tr style=\"text-align: right;\">\n",
       "      <th></th>\n",
       "      <th>cpu%_0</th>\n",
       "      <th>cpu%_1</th>\n",
       "      <th>cpu%_2</th>\n",
       "      <th>mem%_0</th>\n",
       "      <th>mem%_1</th>\n",
       "      <th>mem%_2</th>\n",
       "      <th>disk%_0</th>\n",
       "      <th>disk%_1</th>\n",
       "      <th>disk%_2</th>\n",
       "    </tr>\n",
       "    <tr>\n",
       "      <th>machine</th>\n",
       "      <th></th>\n",
       "      <th></th>\n",
       "      <th></th>\n",
       "      <th></th>\n",
       "      <th></th>\n",
       "      <th></th>\n",
       "      <th></th>\n",
       "      <th></th>\n",
       "      <th></th>\n",
       "    </tr>\n",
       "  </thead>\n",
       "  <tbody>\n",
       "    <tr>\n",
       "      <th>mac1</th>\n",
       "      <td>12</td>\n",
       "      <td>40</td>\n",
       "      <td>40</td>\n",
       "      <td>24</td>\n",
       "      <td>54</td>\n",
       "      <td>34</td>\n",
       "      <td>30</td>\n",
       "      <td>40</td>\n",
       "      <td>20</td>\n",
       "    </tr>\n",
       "    <tr>\n",
       "      <th>mac2</th>\n",
       "      <td>24</td>\n",
       "      <td>44</td>\n",
       "      <td>84</td>\n",
       "      <td>30</td>\n",
       "      <td>60</td>\n",
       "      <td>90</td>\n",
       "      <td>60</td>\n",
       "      <td>70</td>\n",
       "      <td>60</td>\n",
       "    </tr>\n",
       "    <tr>\n",
       "      <th>mac3</th>\n",
       "      <td>22</td>\n",
       "      <td>62</td>\n",
       "      <td>12</td>\n",
       "      <td>10</td>\n",
       "      <td>50</td>\n",
       "      <td>10</td>\n",
       "      <td>20</td>\n",
       "      <td>30</td>\n",
       "      <td>33</td>\n",
       "    </tr>\n",
       "  </tbody>\n",
       "</table>\n",
       "</div>"
      ],
      "text/plain": [
       "         cpu%_0  cpu%_1  cpu%_2  mem%_0  mem%_1  mem%_2  disk%_0  disk%_1  \\\n",
       "machine                                                                     \n",
       "mac1         12      40      40      24      54      34       30       40   \n",
       "mac2         24      44      84      30      60      90       60       70   \n",
       "mac3         22      62      12      10      50      10       20       30   \n",
       "\n",
       "         disk%_2  \n",
       "machine           \n",
       "mac1          20  \n",
       "mac2          60  \n",
       "mac3          33  "
      ]
     },
     "execution_count": 42,
     "metadata": {},
     "output_type": "execute_result"
    }
   ],
   "source": [
    "indexed=['machine']\n",
    "columnlist=['cpu%','mem%','disk%']\n",
    "printFiles(filepattern)\n",
    "getmerged(dflist,indexed,columnlist)"
   ]
  },
  {
   "cell_type": "code",
   "execution_count": null,
   "id": "6f593bf8",
   "metadata": {},
   "outputs": [],
   "source": []
  }
 ],
 "metadata": {
  "hide_input": false,
  "kernelspec": {
   "display_name": "Python 3",
   "language": "python",
   "name": "python3"
  },
  "language_info": {
   "codemirror_mode": {
    "name": "ipython",
    "version": 3
   },
   "file_extension": ".py",
   "mimetype": "text/x-python",
   "name": "python",
   "nbconvert_exporter": "python",
   "pygments_lexer": "ipython3",
   "version": "3.8.2"
  }
 },
 "nbformat": 4,
 "nbformat_minor": 5
}
